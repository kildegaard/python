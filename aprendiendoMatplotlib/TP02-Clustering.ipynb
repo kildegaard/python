{
 "cells": [
  {
   "cell_type": "markdown",
   "metadata": {},
   "source": [
    "# Trabajo Práctico Nº 2 - Clustering - KMeans\n",
    "***"
   ]
  },
  {
   "cell_type": "code",
   "execution_count": null,
   "metadata": {},
   "outputs": [],
   "source": [
    "import numpy as np\n",
    "import matplotlib.pyplot as plt\n",
    "from matplotlib import image\n",
    "from sklearn.cluster import KMeans"
   ]
  },
  {
   "cell_type": "code",
   "execution_count": null,
   "metadata": {},
   "outputs": [],
   "source": [
    "def rgb_to_hsv(rgb: list) -> list:\n",
    "    '''\n",
    "    Función que recibe una lista de 3 listas correspondientes a los canales de colores RGB.\n",
    "    Devuelve una lista de 3 listas correspondientes a los análogos en color HSV.\n",
    "    '''\n",
    "    \n",
    "    input_shape = rgb.shape\n",
    "    rgb = rgb.reshape(-1, 3)\n",
    "    r, g, b = rgb[:, 0], rgb[:, 1], rgb[:, 2]\n",
    "\n",
    "    maxc = np.maximum(np.maximum(r, g), b)\n",
    "    minc = np.minimum(np.minimum(r, g), b)\n",
    "    v = maxc\n",
    "\n",
    "    deltac = maxc - minc\n",
    "    s = deltac / maxc\n",
    "    deltac[deltac == 0] = 1  # to not divide by zero (those results in any way would be overridden in next lines)\n",
    "    rc = (maxc - r) / deltac\n",
    "    gc = (maxc - g) / deltac\n",
    "    bc = (maxc - b) / deltac\n",
    "\n",
    "    h = 4.0 + gc - rc\n",
    "    h[g == maxc] = 2.0 + rc[g == maxc] - bc[g == maxc]\n",
    "    h[r == maxc] = bc[r == maxc] - gc[r == maxc]\n",
    "    h[minc == maxc] = 0.0\n",
    "\n",
    "    h = (h / 6.0) % 1.0\n",
    "    res = np.dstack([h, s, v])\n",
    "    \n",
    "    return res.reshape(input_shape)"
   ]
  },
  {
   "cell_type": "code",
   "execution_count": null,
   "metadata": {},
   "outputs": [],
   "source": [
    "file = 'DSC01535.JPG'\n",
    "foto = image.imread(file)\n",
    "\n",
    "plt.figure(figsize=(12, 8))\n",
    "plt.imshow(foto1)\n",
    "print(foto.shape)"
   ]
  },
  {
   "cell_type": "code",
   "execution_count": null,
   "metadata": {},
   "outputs": [],
   "source": [
    "dsamp = 15\n",
    "'''\n",
    "El slice ::dsamp significa \"agarrá todo cada 15 unidades\", es decir, agarra 0, 15, 30, ...\n",
    "Eso lo hace en X y en Y para los 3 canales\n",
    "'''\n",
    "foto_apil1 = foto[::dsamp, ::dsamp, :]\n",
    "\n",
    "# foto_apil1 = foto1"
   ]
  },
  {
   "cell_type": "code",
   "execution_count": null,
   "metadata": {},
   "outputs": [],
   "source": [
    "foto_hsv = rgb_to_hsv(foto_apil1)\n",
    "# foto_hsv = foto_apil1\n",
    "\n",
    "# Acá separo los resultados para los distintos parámetros\n",
    "H = foto_hsv[:,:,0]\n",
    "S = foto_hsv[:,:,1]\n",
    "V = foto_hsv[:,:,2]"
   ]
  },
  {
   "cell_type": "code",
   "execution_count": null,
   "metadata": {},
   "outputs": [],
   "source": [
    "fig1, ax1 = plt.subplots(1, 3, figsize=(12, 8))\n",
    "ax1[0].imshow(H)\n",
    "ax1[0].set_title('Canal H')\n",
    "ax1[1].imshow(S)\n",
    "ax1[1].set_title('Canal S')\n",
    "ax1[2].imshow(V)\n",
    "ax1[2].set_title('Canal V')"
   ]
  },
  {
   "cell_type": "code",
   "execution_count": null,
   "metadata": {},
   "outputs": [],
   "source": [
    "fig1 = plt.figure(figsize=(12, 8))\n",
    "ax1 = fig1.add_subplot(2, 1, 1)\n",
    "ax1.imshow(foto)\n",
    "\n",
    "canales = [H, S, V]\n",
    "i = [4, 5, 6]\n",
    "for n, canal in enumerate(canales, start=4):\n",
    "    fig1.add_subplot(2, 3, n).imshow(canal)\n",
    "    \n",
    "ax_list = fig1.axes\n",
    "ax_list[0].set_title('Original', y = 1.0, pad = -14)\n",
    "ax_list[1].set_title('Canal H')\n",
    "ax_list[2].set_title('Canal S')\n",
    "ax_list[3].set_title('Canal V')\n",
    "ax_list[3].set_ylabel(\"HOLA HOLA\", rotation=45)"
   ]
  }
 ],
 "metadata": {
  "kernelspec": {
   "display_name": "Python 3",
   "language": "python",
   "name": "python3"
  },
  "language_info": {
   "codemirror_mode": {
    "name": "ipython",
    "version": 3
   },
   "file_extension": ".py",
   "mimetype": "text/x-python",
   "name": "python",
   "nbconvert_exporter": "python",
   "pygments_lexer": "ipython3",
   "version": "3.8.5"
  }
 },
 "nbformat": 4,
 "nbformat_minor": 4
}
