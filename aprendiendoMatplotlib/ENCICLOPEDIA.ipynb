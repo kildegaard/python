{
 "cells": [
  {
   "cell_type": "markdown",
   "metadata": {},
   "source": [
    "<h1 style=\"text-align:center\">ENCICLOPEDIA DE GRAFICACIÓN EN PYTHON</h1>"
   ]
  },
  {
   "cell_type": "markdown",
   "metadata": {},
   "source": [
    "***\n",
    "***"
   ]
  },
  {
   "cell_type": "markdown",
   "metadata": {},
   "source": [
    "## Páginas de tutoriales útiles\n",
    "\n",
    "- Tutoriales de Matplotlib por **Corey Schafer** : https://www.youtube.com/playlist?list=PL-osiE80TeTvipOqomVEeZ1HRrcEvtZB_\n",
    "\n",
    "- Varios tutos que fui  viendo:\n",
    "    - https://python4astronomers.github.io/plotting/advanced.html\n",
    "    - https://matplotlib.org/tutorials/index.html\n",
    "    - https://stackoverflow.com/questions/52214776/python-matplotlib-differences-between-subplot-and-subplots"
   ]
  },
  {
   "cell_type": "markdown",
   "metadata": {},
   "source": [
    "***"
   ]
  },
  {
   "cell_type": "markdown",
   "metadata": {},
   "source": [
    "## Título"
   ]
  },
  {
   "cell_type": "markdown",
   "metadata": {},
   "source": [
    "- **Posicionamiento del título**\n",
    "\n",
    "Fuente: [MatplotLib](https://matplotlib.org/3.3.0/gallery/text_labels_and_annotations/titles_demo.html)"
   ]
  },
  {
   "cell_type": "markdown",
   "metadata": {},
   "source": [
    "***"
   ]
  },
  {
   "cell_type": "markdown",
   "metadata": {},
   "source": [
    "## Ticks"
   ]
  },
  {
   "cell_type": "markdown",
   "metadata": {},
   "source": [
    "- Algo"
   ]
  },
  {
   "cell_type": "markdown",
   "metadata": {},
   "source": [
    "***"
   ]
  },
  {
   "cell_type": "markdown",
   "metadata": {},
   "source": [
    "## Labels"
   ]
  },
  {
   "cell_type": "markdown",
   "metadata": {},
   "source": [
    "- **Orientación de los labels.** Fuente: [StackOverflow](https://stackoverflow.com/questions/27671748/how-to-print-y-axis-label-horizontally-in-a-matplotlib-pylab-chart)\n",
    "\n",
    "```python\n",
    "ax.set_ylabel('holis', rotation = 45)\n",
    "```"
   ]
  },
  {
   "cell_type": "markdown",
   "metadata": {},
   "source": [
    "***"
   ]
  },
  {
   "cell_type": "markdown",
   "metadata": {},
   "source": [
    "## Figures, Axes y demás"
   ]
  },
  {
   "cell_type": "markdown",
   "metadata": {},
   "source": [
    "- **Obtener lista de ejes definidos dentro de una figura.** Fuente: [StackOverflow](https://stackoverflow.com/questions/24104990/how-to-get-a-list-of-axes-for-a-figure-in-pyplot)\n",
    "\n",
    "```python\n",
    "ax_list = fig.axes\n",
    "```"
   ]
  },
  {
   "cell_type": "markdown",
   "metadata": {},
   "source": [
    "***"
   ]
  },
  {
   "cell_type": "markdown",
   "metadata": {},
   "source": [
    "## Subplot / Subplots"
   ]
  },
  {
   "cell_type": "markdown",
   "metadata": {},
   "source": [
    "- **Diferencia entre subplot y subplots.** Fuente: [StackOverflow](https://stackoverflow.com/questions/52214776/python-matplotlib-differences-between-subplot-and-subplots)"
   ]
  },
  {
   "cell_type": "markdown",
   "metadata": {},
   "source": [
    "***"
   ]
  },
  {
   "cell_type": "markdown",
   "metadata": {},
   "source": [
    "## KMeans"
   ]
  },
  {
   "cell_type": "markdown",
   "metadata": {},
   "source": [
    "- Seleccionar el punto inicial del centroide:\n",
    "    - https://stackoverflow.com/questions/28862334/k-means-with-selected-initial-centers"
   ]
  },
  {
   "source": [
    "Cambiar todos los fonts de una:\n",
    "\n",
    "- [Usando `plt.rcParams()`](https://stackabuse.com/change-font-size-in-matplotlib/)\n",
    "- [Usando `plt.rc()`](https://matplotlib.org/api/matplotlib_configuration_api.html#matplotlib.rc)"
   ],
   "cell_type": "markdown",
   "metadata": {}
  },
  {
   "source": [
    "## Scatter Plot"
   ],
   "cell_type": "markdown",
   "metadata": {}
  },
  {
   "source": [
    "- Hacer que los circulitos sean sin relleno:\n",
    "    - https://stackoverflow.com/questions/4143502/how-to-do-a-scatter-plot-with-empty-circles-in-python"
   ],
   "cell_type": "markdown",
   "metadata": {}
  }
 ],
 "metadata": {
  "kernelspec": {
   "display_name": "Python 3",
   "language": "python",
   "name": "python3"
  },
  "language_info": {
   "codemirror_mode": {
    "name": "ipython",
    "version": 3
   },
   "file_extension": ".py",
   "mimetype": "text/x-python",
   "name": "python",
   "nbconvert_exporter": "python",
   "pygments_lexer": "ipython3",
   "version": "3.8.5"
  }
 },
 "nbformat": 4,
 "nbformat_minor": 4
}