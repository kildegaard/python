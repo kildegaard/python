{
 "cells": [
  {
   "cell_type": "code",
   "execution_count": 2,
   "metadata": {},
   "outputs": [],
   "source": [
    "import requests\n",
    "from bs4 import BeautifulSoup"
   ]
  },
  {
   "cell_type": "code",
   "execution_count": 26,
   "metadata": {},
   "outputs": [],
   "source": [
    "# Quiero parsear el valor del dolar de la página Dolar Hoy\n",
    "url = 'https://www.dolarhoy.com/'\n",
    "response = requests.get(url)\n",
    "soup = BeautifulSoup(response.content, 'html.parser')\n",
    "cosas = soup.find_all('div', class_='tile is-parent is-5')[0]"
   ]
  },
  {
   "cell_type": "code",
   "execution_count": 31,
   "metadata": {},
   "outputs": [
    {
     "name": "stdout",
     "output_type": "stream",
     "text": [
      "$470\n"
     ]
    }
   ],
   "source": [
    "compra = cosas.find('div', class_='venta')\n",
    "val_compra = compra.find('div', class_='val')\n",
    "print(val_compra.text)"
   ]
  },
  {
   "cell_type": "code",
   "execution_count": 5,
   "metadata": {},
   "outputs": [
    {
     "data": {
      "text/plain": [
       "'$470'"
      ]
     },
     "execution_count": 5,
     "metadata": {},
     "output_type": "execute_result"
    }
   ],
   "source": [
    "url = 'https://www.dolarhoy.com/'\n",
    "BeautifulSoup(requests.get(url).content, 'html.parser')\\\n",
    "    .find('div', class_='tile is-parent is-5')\\\n",
    "    .find('div', class_='venta')\\\n",
    "    .find('div', class_='val').text"
   ]
  },
  {
   "cell_type": "code",
   "execution_count": 39,
   "metadata": {},
   "outputs": [
    {
     "name": "stdout",
     "output_type": "stream",
     "text": [
      "$470\n"
     ]
    }
   ],
   "source": [
    "a = BeautifulSoup(requests.get(url).content, 'html.parser')\\\n",
    "    .find('div', class_='venta')\\\n",
    "    .find('div', class_='val').text\n",
    "\n",
    "print(a)\n",
    "\n",
    "# for cosa in a:\n",
    "#     print(cosa)"
   ]
  }
 ],
 "metadata": {
  "kernelspec": {
   "display_name": "Python 3",
   "language": "python",
   "name": "python3"
  },
  "language_info": {
   "codemirror_mode": {
    "name": "ipython",
    "version": 3
   },
   "file_extension": ".py",
   "mimetype": "text/x-python",
   "name": "python",
   "nbconvert_exporter": "python",
   "pygments_lexer": "ipython3",
   "version": "3.11.1"
  },
  "orig_nbformat": 4
 },
 "nbformat": 4,
 "nbformat_minor": 2
}
