{
 "cells": [
  {
   "cell_type": "markdown",
   "source": [
    "%%"
   ],
   "metadata": {}
  },
  {
   "cell_type": "code",
   "execution_count": 1,
   "source": [
    "import numpy as np\r\n",
    "from matplotlib import pyplot as plt\r\n",
    "'''\r\n",
    "Todo esto sale de:\r\n",
    "https://realpython.com/np-linspace-numpy/?__s=ys765jm76xn5wmdbddxy\r\n",
    "'''"
   ],
   "outputs": [
    {
     "output_type": "execute_result",
     "data": {
      "text/plain": [
       "'\\nTodo esto sale de:\\nhttps://realpython.com/np-linspace-numpy/?__s=ys765jm76xn5wmdbddxy\\n'"
      ]
     },
     "metadata": {},
     "execution_count": 1
    }
   ],
   "metadata": {}
  },
  {
   "cell_type": "markdown",
   "source": [
    "%%<br>\n",
    "Serie de nÃºmeros equiespaciados con una cantidad de datos DETERMINADA<br>\n",
    "Contiene al start y al stop<br>\n",
    "linspace genera float (a menos que se especifique otra cosa)"
   ],
   "metadata": {}
  },
  {
   "cell_type": "code",
   "execution_count": 2,
   "source": [
    "ej_1 = np.linspace(start=0, stop=10, num=11)\r\n",
    "print(ej_1)\r\n",
    "print(type(ej_1))\r\n",
    "print(type(ej_1[0]))"
   ],
   "outputs": [
    {
     "output_type": "stream",
     "name": "stdout",
     "text": [
      "[ 0.  1.  2.  3.  4.  5.  6.  7.  8.  9. 10.]\n",
      "<class 'numpy.ndarray'>\n",
      "<class 'numpy.float64'>\n"
     ]
    }
   ],
   "metadata": {}
  },
  {
   "cell_type": "markdown",
   "source": [
    "%%<br>\n",
    "Podemos averiguar la separaciÃ³n entre elementos de linspace"
   ],
   "metadata": {}
  },
  {
   "cell_type": "code",
   "execution_count": 3,
   "source": [
    "numeros, step = np.linspace(start=0, stop=10, num=20, retstep=True)\r\n",
    "print(numeros)\r\n",
    "print(step)\r\n",
    "# %%\r\n",
    "# Serie de nÃºmeros con un ESPACIAMIENTO BIEN DEFINIDO\r\n",
    "# arange genera enteros"
   ],
   "outputs": [
    {
     "output_type": "stream",
     "name": "stdout",
     "text": [
      "[ 0.          0.52631579  1.05263158  1.57894737  2.10526316  2.63157895\n",
      "  3.15789474  3.68421053  4.21052632  4.73684211  5.26315789  5.78947368\n",
      "  6.31578947  6.84210526  7.36842105  7.89473684  8.42105263  8.94736842\n",
      "  9.47368421 10.        ]\n",
      "0.5263157894736842\n"
     ]
    }
   ],
   "metadata": {}
  },
  {
   "cell_type": "code",
   "execution_count": 18,
   "source": [
    "ej_2 = np.arange(start=0, stop=10, step=3)\r\n",
    "print(ej_2)\r\n",
    "print(type(ej_2))\r\n",
    "print(type(ej_2[0]))\r\n",
    "# %%\r\n",
    "# Cosas un poco mÃ¡s raras\r\n",
    "# Armar matrices con valores"
   ],
   "outputs": [
    {
     "output_type": "stream",
     "name": "stdout",
     "text": [
      "[0 3 6 9]\n",
      "<class 'numpy.ndarray'>\n",
      "<class 'numpy.int32'>\n"
     ]
    }
   ],
   "metadata": {}
  },
  {
   "cell_type": "code",
   "execution_count": 19,
   "source": [
    "mat, esp = np.linspace(start=[1, 10, 100], stop=[10, 50, 200], num=10, retstep=True)\r\n",
    "print(mat)\r\n",
    "print(mat.shape)\r\n",
    "print(esp)"
   ],
   "outputs": [
    {
     "output_type": "stream",
     "name": "stdout",
     "text": [
      "[[  1.          10.         100.        ]\n",
      " [  2.          14.44444444 111.11111111]\n",
      " [  3.          18.88888889 122.22222222]\n",
      " [  4.          23.33333333 133.33333333]\n",
      " [  5.          27.77777778 144.44444444]\n",
      " [  6.          32.22222222 155.55555556]\n",
      " [  7.          36.66666667 166.66666667]\n",
      " [  8.          41.11111111 177.77777778]\n",
      " [  9.          45.55555556 188.88888889]\n",
      " [ 10.          50.         200.        ]]\n",
      "(10, 3)\n",
      "[ 1.          4.44444444 11.11111111]\n"
     ]
    }
   ],
   "metadata": {}
  },
  {
   "cell_type": "markdown",
   "source": [
    "%%<br>\n",
    "Podemos trasponer esto de una"
   ],
   "metadata": {}
  },
  {
   "cell_type": "code",
   "execution_count": 21,
   "source": [
    "mat_T = np.linspace(start=[1, 10, 100], stop=[10, 50, 200], num=10, axis=1)\r\n",
    "print(mat_T)\r\n",
    "print(mat_T.shape)\r\n",
    "# %%\r\n",
    "'''\r\n",
    "En resumen, la funciÃ³n linspace tiene esta pinta:'''"
   ],
   "outputs": [
    {
     "output_type": "stream",
     "name": "stdout",
     "text": [
      "[[  1.           2.           3.           4.           5.\n",
      "    6.           7.           8.           9.          10.        ]\n",
      " [ 10.          14.44444444  18.88888889  23.33333333  27.77777778\n",
      "   32.22222222  36.66666667  41.11111111  45.55555556  50.        ]\n",
      " [100.         111.11111111 122.22222222 133.33333333 144.44444444\n",
      "  155.55555556 166.66666667 177.77777778 188.88888889 200.        ]]\n",
      "(3, 10)\n"
     ]
    },
    {
     "output_type": "execute_result",
     "data": {
      "text/plain": [
       "'\\nEn resumen, la funciÃ³n linspace tiene esta pinta:'"
      ]
     },
     "metadata": {},
     "execution_count": 21
    }
   ],
   "metadata": {}
  },
  {
   "cell_type": "code",
   "execution_count": null,
   "source": [
    "linspace(start, stop, num=50, endpoint=True, retstep=False, dtype=None, axis=0)"
   ],
   "outputs": [],
   "metadata": {}
  },
  {
   "cell_type": "code",
   "execution_count": null,
   "source": [
    "num = Cant de valores generados\r\n",
    "endpoint = Si es True, incluye el Stop\r\n",
    "retstep = Devuelve la longitud entre los valores\r\n",
    "dtype = Especifica el tipo de dato\r\n",
    "axis = 1 -> Traspone"
   ],
   "outputs": [],
   "metadata": {}
  },
  {
   "cell_type": "code",
   "execution_count": 2,
   "source": [
    "import numpy as np\r\n",
    "# Cosas lindas que se pueden hacer con el linspace\r\n",
    "x_ = np.linspace(-5, 5, 100)\r\n",
    "y_ = 4 * (x_**3) + 2 * (x_**2) + 5 * x_\r\n",
    "plt.plot(x_, y_)\r\n",
    "\r\n",
    "# Parameters for discretizing the mathematical function\r\n",
    "sampling = 100\r\n",
    "x_range = -10, 10\r\n",
    "n_waves = 3\r\n",
    "# Parameters are tuples with a value for each wave (2 in this case)\r\n",
    "amplitudes = 1.7, 0.8, 5.3\r\n",
    "wavelengths = 4, 7.5, 1\r\n",
    "velocities = 2, 1.5, 7\r\n",
    "time = 0  # You can set time to 0 for now\r\n",
    "x_ = np.linspace(x_range[0], x_range[1], sampling)\r\n",
    "# Create 2 (or more) waves using a list comprehension and superimpose\r\n",
    "waves = [amplitudes[idx] * np.sin((2 * np.pi / wavelengths[idx]) * (x_ - velocities[idx] * time)) for idx in range(n_waves)]\r\n",
    "superimposed_wave = sum(waves)\r\n",
    "# Plot both waves separately to see what they look like\r\n",
    "plt.subplot(2, 1, 1)\r\n",
    "plt.plot(x_, waves[0])\r\n",
    "plt.plot(x_, waves[1])\r\n",
    "plt.plot(x_, waves[2])\r\n",
    "# Plot the superimposed wave\r\n",
    "plt.subplot(2, 1, 2)\r\n",
    "plt.plot(x_, superimposed_wave)\r\n",
    "plt.show()\r\n",
    "\r\n",
    "for time in np.arange(0, 40, 0.2):\r\n",
    "    # Create 2 (or more) waves using a list comprehension and superimpose\r\n",
    "    waves = [amplitudes[idx] *\r\n",
    "             np.sin((2 * np.pi / wavelengths[idx]) * (x_ - velocities[idx] * time)) for idx in range(n_waves)]\r\n",
    "    superimposed_wave = sum(waves)\r\n",
    "    plt.clf()  # Clear last figure\r\n",
    "    plt.plot(x_, superimposed_wave)\r\n",
    "    plt.ylim(-3, 3)  # Fix the limits on the y-axis\r\n",
    "    plt.pause(0.1)  # Insert short pause to create animation"
   ],
   "outputs": [
    {
     "output_type": "error",
     "ename": "NameError",
     "evalue": "name 'plt' is not defined",
     "traceback": [
      "\u001b[1;31m---------------------------------------------------------------------------\u001b[0m",
      "\u001b[1;31mNameError\u001b[0m                                 Traceback (most recent call last)",
      "\u001b[1;32m~\\AppData\\Local\\Temp/ipykernel_5860/4177902755.py\u001b[0m in \u001b[0;36m<module>\u001b[1;34m\u001b[0m\n\u001b[0;32m      3\u001b[0m \u001b[0mx_\u001b[0m \u001b[1;33m=\u001b[0m \u001b[0mnp\u001b[0m\u001b[1;33m.\u001b[0m\u001b[0mlinspace\u001b[0m\u001b[1;33m(\u001b[0m\u001b[1;33m-\u001b[0m\u001b[1;36m5\u001b[0m\u001b[1;33m,\u001b[0m \u001b[1;36m5\u001b[0m\u001b[1;33m,\u001b[0m \u001b[1;36m100\u001b[0m\u001b[1;33m)\u001b[0m\u001b[1;33m\u001b[0m\u001b[1;33m\u001b[0m\u001b[0m\n\u001b[0;32m      4\u001b[0m \u001b[0my_\u001b[0m \u001b[1;33m=\u001b[0m \u001b[1;36m4\u001b[0m \u001b[1;33m*\u001b[0m \u001b[1;33m(\u001b[0m\u001b[0mx_\u001b[0m\u001b[1;33m**\u001b[0m\u001b[1;36m3\u001b[0m\u001b[1;33m)\u001b[0m \u001b[1;33m+\u001b[0m \u001b[1;36m2\u001b[0m \u001b[1;33m*\u001b[0m \u001b[1;33m(\u001b[0m\u001b[0mx_\u001b[0m\u001b[1;33m**\u001b[0m\u001b[1;36m2\u001b[0m\u001b[1;33m)\u001b[0m \u001b[1;33m+\u001b[0m \u001b[1;36m5\u001b[0m \u001b[1;33m*\u001b[0m \u001b[0mx_\u001b[0m\u001b[1;33m\u001b[0m\u001b[1;33m\u001b[0m\u001b[0m\n\u001b[1;32m----> 5\u001b[1;33m \u001b[0mplt\u001b[0m\u001b[1;33m.\u001b[0m\u001b[0mplot\u001b[0m\u001b[1;33m(\u001b[0m\u001b[0mx_\u001b[0m\u001b[1;33m,\u001b[0m \u001b[0my_\u001b[0m\u001b[1;33m)\u001b[0m\u001b[1;33m\u001b[0m\u001b[1;33m\u001b[0m\u001b[0m\n\u001b[0m\u001b[0;32m      6\u001b[0m \u001b[1;33m\u001b[0m\u001b[0m\n\u001b[0;32m      7\u001b[0m \u001b[1;31m# Parameters for discretizing the mathematical function\u001b[0m\u001b[1;33m\u001b[0m\u001b[1;33m\u001b[0m\u001b[1;33m\u001b[0m\u001b[0m\n",
      "\u001b[1;31mNameError\u001b[0m: name 'plt' is not defined"
     ]
    }
   ],
   "metadata": {}
  }
 ],
 "metadata": {
  "kernelspec": {
   "name": "python3",
   "display_name": "Python 3.8.11 64-bit ('base': conda)"
  },
  "language_info": {
   "codemirror_mode": {
    "name": "ipython",
    "version": 3
   },
   "file_extension": ".py",
   "mimetype": "text/x-python",
   "name": "python",
   "nbconvert_exporter": "python",
   "pygments_lexer": "ipython3",
   "version": "3.8.11"
  },
  "interpreter": {
   "hash": "b3ba2566441a7c06988d0923437866b63cedc61552a5af99d1f4fb67d367b25f"
  }
 },
 "nbformat": 4,
 "nbformat_minor": 4
}