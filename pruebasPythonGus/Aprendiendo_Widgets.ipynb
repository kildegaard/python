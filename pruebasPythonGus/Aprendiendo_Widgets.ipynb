{
 "cells": [
  {
   "cell_type": "markdown",
   "metadata": {},
   "source": [
    "# <b>Uso de Widgets para embellecer los códigos</b>"
   ]
  },
  {
   "cell_type": "markdown",
   "metadata": {},
   "source": [
    "Toda esta data la estoy sacando de un [artículo de Medium.com](https://medium.com/@jdchipox/how-to-interact-with-jupyter-33a98686f24e).\n",
    "\n",
    "En el mismo te tiran una [lista de Widgets](https://ipywidgets.readthedocs.io/en/stable/examples/Widget%20List.html) que se pueden usar!\n",
    "\n",
    "***"
   ]
  },
  {
   "cell_type": "markdown",
   "metadata": {},
   "source": [
    "## 1. Definición, declaración y un par de ejemplos"
   ]
  },
  {
   "cell_type": "code",
   "execution_count": 2,
   "metadata": {},
   "outputs": [],
   "source": [
    "from IPython.display import display, Markdown, clear_output\n",
    "import ipywidgets as widgets\n",
    "from matplotlib import pyplot as plt\n",
    "%matplotlib widget"
   ]
  },
  {
   "cell_type": "markdown",
   "metadata": {},
   "source": [
    "Vamos a definir algunos Widgets sencillos"
   ]
  },
  {
   "cell_type": "code",
   "execution_count": 4,
   "metadata": {},
   "outputs": [],
   "source": [
    "text = widgets.Text(value = 'Texto',\n",
    "                    description = 'Título')\n",
    "\n",
    "calendar = widgets.DatePicker(description = 'Seleccionar una fecha')\n",
    "\n",
    "slider = widgets.FloatSlider(value = 1.0,\n",
    "                             min = 0.0,\n",
    "                             max = 10.0,\n",
    "                             step = 0.1)\n",
    "\n",
    "menu = widgets.Dropdown(options = ['Rojo', 'Azul', 'Verde'],\n",
    "                        value = 'Rojo',\n",
    "                        description = 'Color: ')\n",
    "\n",
    "checkbox = widgets.Checkbox(description = 'Seleccionar para invertir.')"
   ]
  },
  {
   "cell_type": "code",
   "execution_count": 5,
   "metadata": {},
   "outputs": [
    {
     "data": {
      "application/vnd.jupyter.widget-view+json": {
       "model_id": "7e3e36f02601495aa62d6369cee69baa",
       "version_major": 2,
       "version_minor": 0
      },
      "text/plain": [
       "Text(value='Texto', description='Título')"
      ]
     },
     "metadata": {},
     "output_type": "display_data"
    }
   ],
   "source": [
    "text"
   ]
  },
  {
   "cell_type": "code",
   "execution_count": 6,
   "metadata": {},
   "outputs": [
    {
     "data": {
      "application/vnd.jupyter.widget-view+json": {
       "model_id": "61ee357649874b3badf77ba411d8fbdb",
       "version_major": 2,
       "version_minor": 0
      },
      "text/plain": [
       "DatePicker(value=None, description='Seleccionar una fecha')"
      ]
     },
     "metadata": {},
     "output_type": "display_data"
    }
   ],
   "source": [
    "calendar"
   ]
  },
  {
   "cell_type": "code",
   "execution_count": 7,
   "metadata": {},
   "outputs": [
    {
     "data": {
      "application/vnd.jupyter.widget-view+json": {
       "model_id": "263c8eb35d9d4a399f4ff21cc57d1e5c",
       "version_major": 2,
       "version_minor": 0
      },
      "text/plain": [
       "FloatSlider(value=1.0, max=10.0)"
      ]
     },
     "metadata": {},
     "output_type": "display_data"
    }
   ],
   "source": [
    "slider"
   ]
  },
  {
   "cell_type": "code",
   "execution_count": 8,
   "metadata": {},
   "outputs": [
    {
     "data": {
      "application/vnd.jupyter.widget-view+json": {
       "model_id": "6a1d2f0231504b308a5fc2dc76c539ed",
       "version_major": 2,
       "version_minor": 0
      },
      "text/plain": [
       "Dropdown(description='Color: ', options=('Rojo', 'Azul', 'Verde'), value='Rojo')"
      ]
     },
     "metadata": {},
     "output_type": "display_data"
    }
   ],
   "source": [
    "menu"
   ]
  },
  {
   "cell_type": "code",
   "execution_count": 9,
   "metadata": {},
   "outputs": [
    {
     "data": {
      "application/vnd.jupyter.widget-view+json": {
       "model_id": "6777de5b3aee4dba95667dbda2a8e7cb",
       "version_major": 2,
       "version_minor": 0
      },
      "text/plain": [
       "Checkbox(value=False, description='Seleccionar para invertir.')"
      ]
     },
     "metadata": {},
     "output_type": "display_data"
    }
   ],
   "source": [
    "checkbox"
   ]
  },
  {
   "cell_type": "markdown",
   "metadata": {},
   "source": [
    "Como vemos, podemos instanciarlos muy fácilmente y sus argumentos son fáciles de entender!.\n",
    "\n",
    "Hay otros Widgets que sirven de **contenedores**."
   ]
  },
  {
   "cell_type": "code",
   "execution_count": 10,
   "metadata": {},
   "outputs": [
    {
     "data": {
      "application/vnd.jupyter.widget-view+json": {
       "model_id": "fbfc180b5ac54c9f8398b638de2ef474",
       "version_major": 2,
       "version_minor": 0
      },
      "text/plain": [
       "VBox(children=(Text(value='Texto', description='Título'), FloatSlider(value=6.1, max=10.0), Dropdown(descripti…"
      ]
     },
     "metadata": {},
     "output_type": "display_data"
    }
   ],
   "source": [
    "box = widgets.VBox([text, slider, menu, calendar, checkbox])\n",
    "box"
   ]
  },
  {
   "cell_type": "markdown",
   "metadata": {},
   "source": [
    "Vemos que tenemos todo en un solo lugar, mucho más bonito. Hay un par de cosas que se pueden hacer con esto.\n",
    "\n",
    "1. Se pueden ordenar de manera vertical con `VBox`\n",
    "2. Se pueden ordenar de manera horizontal con `HBox`\n",
    "3. Se pueden anidar!"
   ]
  },
  {
   "cell_type": "code",
   "execution_count": 11,
   "metadata": {},
   "outputs": [
    {
     "data": {
      "application/vnd.jupyter.widget-view+json": {
       "model_id": "b3e08ada949b4c28931eb0ebe2d1acfd",
       "version_major": 2,
       "version_minor": 0
      },
      "text/plain": [
       "HBox(children=(Text(value='Texto', description='Título'), FloatSlider(value=6.1, max=10.0)))"
      ]
     },
     "metadata": {},
     "output_type": "display_data"
    }
   ],
   "source": [
    "h_box = widgets.HBox([text, slider])\n",
    "h_box"
   ]
  },
  {
   "cell_type": "code",
   "execution_count": 12,
   "metadata": {},
   "outputs": [
    {
     "data": {
      "application/vnd.jupyter.widget-view+json": {
       "model_id": "518932be82844cc7b3795fc01ae32dff",
       "version_major": 2,
       "version_minor": 0
      },
      "text/plain": [
       "HBox(children=(VBox(children=(Text(value='Texto', description='Título'), FloatSlider(value=6.1, max=10.0), Dro…"
      ]
     },
     "metadata": {},
     "output_type": "display_data"
    }
   ],
   "source": [
    "anidados = widgets.HBox([box, h_box])\n",
    "anidados"
   ]
  },
  {
   "cell_type": "markdown",
   "metadata": {},
   "source": [
    "También se pueden comer en sabor de **tabs**"
   ]
  },
  {
   "cell_type": "code",
   "execution_count": 13,
   "metadata": {},
   "outputs": [
    {
     "data": {
      "application/vnd.jupyter.widget-view+json": {
       "model_id": "a8bab8ad96a74eb7a2299c9689602e3c",
       "version_major": 2,
       "version_minor": 0
      },
      "text/plain": [
       "Tab(children=(VBox(children=(Text(value='Texto', description='Título'), FloatSlider(value=6.1, max=10.0), Drop…"
      ]
     },
     "metadata": {},
     "output_type": "display_data"
    }
   ],
   "source": [
    "children = [box, h_box]\n",
    "tab = widgets.Tab()\n",
    "tab.children = children\n",
    "\n",
    "tab.set_title(0, 'Box tipo vertical')\n",
    "tab.set_title(1, 'Box tipo horizontal')\n",
    "\n",
    "tab"
   ]
  },
  {
   "cell_type": "markdown",
   "metadata": {},
   "source": [
    "## 2. Vamos a darle algún uso!"
   ]
  },
  {
   "cell_type": "markdown",
   "metadata": {},
   "source": [
    "La parte obvia de esto es poder extraer información de los sliders, de las cajas de texto para poder ser usada en código.\n",
    "\n",
    "Esto lo hacemos fácilmente accediendo al atributo `menu.options` para el caso de las opciones de un *Menú* o `text.value` para el contenido de una *caja de texto*"
   ]
  },
  {
   "cell_type": "code",
   "execution_count": 32,
   "metadata": {},
   "outputs": [
    {
     "data": {
      "text/plain": [
       "'Texto'"
      ]
     },
     "execution_count": 32,
     "metadata": {},
     "output_type": "execute_result"
    }
   ],
   "source": [
    "text.value"
   ]
  },
  {
   "cell_type": "code",
   "execution_count": 35,
   "metadata": {},
   "outputs": [
    {
     "data": {
      "application/vnd.jupyter.widget-view+json": {
       "model_id": "4aba58d39a73490b81d925e3b6aaceb2",
       "version_major": 2,
       "version_minor": 0
      },
      "text/plain": [
       "Text(value='Cambiamos el texto', description='Título')"
      ]
     },
     "metadata": {},
     "output_type": "display_data"
    }
   ],
   "source": [
    "text.value = 'Cambiamos el texto'\n",
    "text"
   ]
  },
  {
   "attachments": {
    "c3bedab7-852b-48cf-b5b7-7ffcae69ce21.png": {
     "image/png": "[encoded data removed]"
    }
   },
   "cell_type": "markdown",
   "metadata": {},
   "source": [
    "Pegamos como imagen para ver que cambió (porque cuando modifique abajo me lo va a cambiar acá también jeje)\n",
    "\n",
    "![imagen.png](attachment:c3bedab7-852b-48cf-b5b7-7ffcae69ce21.png)"
   ]
  },
  {
   "cell_type": "code",
   "execution_count": 36,
   "metadata": {},
   "outputs": [
    {
     "data": {
      "application/vnd.jupyter.widget-view+json": {
       "model_id": "4aba58d39a73490b81d925e3b6aaceb2",
       "version_major": 2,
       "version_minor": 0
      },
      "text/plain": [
       "Text(value='Cambiamos el texto', description='Título')"
      ]
     },
     "metadata": {},
     "output_type": "display_data"
    }
   ],
   "source": [
    "text"
   ]
  },
  {
   "cell_type": "code",
   "execution_count": 37,
   "metadata": {},
   "outputs": [
    {
     "data": {
      "text/plain": [
       "'Voy a poder otra cosa acá'"
      ]
     },
     "execution_count": 37,
     "metadata": {},
     "output_type": "execute_result"
    }
   ],
   "source": [
    "text.value"
   ]
  },
  {
   "cell_type": "markdown",
   "metadata": {},
   "source": [
    "Lo mismo pasa con un slider"
   ]
  },
  {
   "cell_type": "code",
   "execution_count": 43,
   "metadata": {},
   "outputs": [
    {
     "data": {
      "application/vnd.jupyter.widget-view+json": {
       "model_id": "4f7c5ae5f87f48ebba83a43697bfc9d7",
       "version_major": 2,
       "version_minor": 0
      },
      "text/plain": [
       "FloatSlider(value=1.0, max=10.0)"
      ]
     },
     "metadata": {},
     "output_type": "display_data"
    }
   ],
   "source": [
    "slid = widgets.FloatSlider(value = 1.0,\n",
    "                           min = 0.0,\n",
    "                           max = 10.0,\n",
    "                           step = 0.1)\n",
    "slid"
   ]
  },
  {
   "cell_type": "code",
   "execution_count": 47,
   "metadata": {},
   "outputs": [
    {
     "name": "stdout",
     "output_type": "stream",
     "text": [
      "El valor del slide quedó en 4.8 y es de tipo <class 'float'>.\n"
     ]
    }
   ],
   "source": [
    "print(f'El valor del slide quedó en {slid.value} y es de tipo {type(slid.value)}.')"
   ]
  },
  {
   "cell_type": "markdown",
   "metadata": {},
   "source": [
    "Vamos con un gráfico básico ahora"
   ]
  },
  {
   "cell_type": "code",
   "execution_count": 76,
   "metadata": {},
   "outputs": [
    {
     "data": {
      "text/plain": [
       "Text(0.5, 1.0, 'Grafiquito')"
      ]
     },
     "execution_count": 76,
     "metadata": {},
     "output_type": "execute_result"
    },
    {
     "data": {
      "image/png": "[encoded data removed]",
      "text/plain": [
       "<Figure size 432x432 with 1 Axes>"
      ]
     },
     "metadata": {
      "needs_background": "light"
     },
     "output_type": "display_data"
    }
   ],
   "source": [
    "fig = plt.figure(figsize=(6, 6))\n",
    "ax = fig.add_subplot(111)\n",
    "x = [i for i in range(100)]\n",
    "y = [i**2 for i in x]\n",
    "ax.plot(x, y,\n",
    "        color = (0, 1, slid2.value))\n",
    "ax.set_title('Grafiquito',\n",
    "             c = menu_graf.value)"
   ]
  },
  {
   "cell_type": "code",
   "execution_count": 67,
   "metadata": {},
   "outputs": [
    {
     "data": {
      "application/vnd.jupyter.widget-view+json": {
       "model_id": "1321a4242f194e749ef60d89abe39d7f",
       "version_major": 2,
       "version_minor": 0
      },
      "text/plain": [
       "VBox(children=(Dropdown(description='Seleccionar color: ', options=('red', 'green', 'blue'), value='red'), Flo…"
      ]
     },
     "metadata": {},
     "output_type": "display_data"
    }
   ],
   "source": [
    "menu_graf = widgets.Dropdown(options = ['red', 'green', 'blue'], \n",
    "                             value = 'red',\n",
    "                             description = 'Seleccionar color: ')\n",
    "slid2 = widgets.FloatSlider(value = 0,\n",
    "                            min = 0,\n",
    "                            max = 1,\n",
    "                            step = 0.05)\n",
    "conj = widgets.VBox([menu_graf, slid2])\n",
    "conj"
   ]
  },
  {
   "cell_type": "markdown",
   "metadata": {},
   "source": [
    "***\n",
    "***"
   ]
  },
  {
   "cell_type": "markdown",
   "metadata": {},
   "source": [
    "Ejemplo de graficador"
   ]
  },
  {
   "cell_type": "code",
   "execution_count": 1,
   "metadata": {},
   "outputs": [
    {
     "data": {
      "text/markdown": [
       "# 2D/3D Grapher\n",
       "- Write down the equation you want to plot in the Equation window. \n",
       "- If only $X$ or $Y$ is defined in the equation a 2D plot will be shown.\n",
       "- If $Y$ and $X$ are defined a 3D plot will be shown.\n",
       "- Detail specifies the number of points created between the specified range."
      ],
      "text/plain": [
       "<IPython.core.display.Markdown object>"
      ]
     },
     "metadata": {},
     "output_type": "display_data"
    },
    {
     "data": {
      "application/vnd.jupyter.widget-view+json": {
       "model_id": "8048b93004394db6a76070771bb594fd",
       "version_major": 2,
       "version_minor": 0
      },
      "text/plain": [
       "VBox(children=(IntText(value=50, description='Detail:'), FloatRangeSlider(value=(-5.0, 5.0), description='rang…"
      ]
     },
     "metadata": {},
     "output_type": "display_data"
    }
   ],
   "source": [
    "from IPython.core.display import display, HTML, Markdown, clear_output\n",
    "import json\n",
    "import numpy as np\n",
    "import matplotlib.pyplot as plt\n",
    "import ipywidgets as widgets\n",
    "\n",
    "# Defining Widgets: \n",
    "equation = widgets.Text(\n",
    "            value='np.sin(X*Y)+np.cos(X+Y)',\n",
    "            placeholder='Type something',\n",
    "            description='Equation:')\n",
    "range_ = widgets.FloatRangeSlider(\n",
    "    value=[-5, 5],\n",
    "    min=-100,\n",
    "    step=0.1,\n",
    "    description='range:',\n",
    "    orientation='horizontal',\n",
    "    readout=True,\n",
    "    readout_format='d',)\n",
    "points = widgets.IntText(\n",
    "    value=50,\n",
    "    description='Detail:')\n",
    "\n",
    "# DEFINING FUNCTIONS\n",
    "def plot2D(x_points):\n",
    "    # I find where the letter X is in my equation text and replace by placeholders {}\n",
    "    number_of_placeholders = equation.value.count('X')\n",
    "    decomposed_equation = equation.value.replace('X', '{}')\n",
    "    y = []\n",
    "    for point in x_points:\n",
    "        dicti = {i: point for i in range(number_of_placeholders)}\n",
    "        decomposed_eq = decomposed_equation.format(*dicti.values())   \n",
    "        # WARNING: couldn't figure out any other way, let me know if you know\n",
    "        exec(\"\"\"global res\n",
    "res = {}\"\"\".format(decomposed_eq))\n",
    "        y.append(res)\n",
    "    plt.plot(x_points, y)\n",
    "    plt.show()\n",
    "\n",
    "def plot3D(X, Y, Z):\n",
    "    options = {\n",
    "        \"width\": \"100%\",\n",
    "        \"style\": \"surface\",\n",
    "        \"showPerspective\": True,\n",
    "        \"showGrid\": True,\n",
    "        \"showShadow\": True,\n",
    "        \"keepAspectRatio\": False,\n",
    "        \"height\": \"600px\"}\n",
    "     # LOADING DATA\n",
    "    data = [ {\"x\": X[y,x], \n",
    "              \"y\": Y[y,x], \n",
    "              \"z\": Z[y,x]} for y in range(Y.shape[0]) for x in range(Y.shape[1]) ]  \n",
    "    visual_code = r\"\"\"\n",
    "       <link href=\"https://cdnjs.cloudflare.com/ajax/libs/vis/4.21.0/vis.min.css\" type=\"text/css\" rel=\"stylesheet\" />\n",
    "       <script src=\"https://cdnjs.cloudflare.com/ajax/libs/vis/4.21.0/vis.min.js\"></script>\n",
    "       <div id=\"pos\" style=\"top:0px;left:0px;position:absolute;\"></div>\n",
    "       <div id=\"visualization\"></div>      \n",
    "       <script type=\"text/javascript\">\n",
    "        var data = new vis.DataSet();\n",
    "        data.add(\"\"\" + json.dumps(data) + \"\"\");\n",
    "        var options = \"\"\" + json.dumps(options) + \"\"\";\n",
    "        var container = document.getElementById(\"visualization\");\n",
    "        var graph3d = new vis.Graph3d(container, data, options);\n",
    "        // setting the camera position initial\n",
    "        graph3d.setCameraPosition({horizontal:0.8197963, vertical:0.945, distance:1.988})\n",
    "        graph3d.on(\"cameraPositionChange\", function(evt)\n",
    "        {\n",
    "            elem = document.getElementById(\"pos\");\n",
    "            elem.innerHTML = \"Horizontal: \" + evt.horizontal + \"<br>Vertical: \" + evt.vertical + \"<br>Camera Distance: \" + evt.distance;\n",
    "        });\n",
    "       </script>\n",
    "    \"\"\"\n",
    "    html= \"<iframe srcdoc='\"+visual_code+\"' width='75%' height='600px' style='border:10;' scrolling='no'> </iframe>\"\n",
    "    display(HTML(html))\n",
    "    \n",
    "# CREATING BUTTON\n",
    "# if X and Y are inside equation.value we run plot3D\n",
    "# otherwise we run plot2D\n",
    "button = widgets.Button(description='Reveal Equation')\n",
    "out = widgets.Output()\n",
    "def on_button_clicked(b):\n",
    "    global X, Y\n",
    "    with out:\n",
    "        clear_output()    \n",
    "        # computing the x points to evaluate our function\n",
    "        x_points = np.linspace(range_.value[0], \n",
    "            range_.value[1], points.value)\n",
    "        X, Y = np.meshgrid(x_points, x_points)\n",
    "        # WARNING: couldn't figure out any other way, let me know if you know\n",
    "        exec(\"\"\"global Z\n",
    "Z = {}\n",
    "\"\"\".format(equation.value))\n",
    "        if 'Y' in equation.value and 'X' in equation.value:\n",
    "            plot3D(X,Y,Z)\n",
    "        elif 'Y' in equation.value:\n",
    "            equation.value = equation.value.replace('Y', 'X')\n",
    "            plot2D(x_points)\n",
    "        else:\n",
    "            plot2D(x_points)    \n",
    "button.on_click(on_button_clicked)\n",
    "info = Markdown(\"\"\"# 2D/3D Grapher\n",
    "- Write down the equation you want to plot in the Equation window. \n",
    "- If only $X$ or $Y$ is defined in the equation a 2D plot will be shown.\n",
    "- If $Y$ and $X$ are defined a 3D plot will be shown.\n",
    "- Detail specifies the number of points created between the specified range.\"\"\")\n",
    "grapher = widgets.VBox([points, range_,  equation, button, out])\n",
    "display(info, grapher)"
   ]
  },
  {
   "cell_type": "markdown",
   "metadata": {},
   "source": [
    "***\n",
    "***"
   ]
  },
  {
   "cell_type": "code",
   "execution_count": null,
   "metadata": {},
   "outputs": [],
   "source": []
  }
 ],
 "metadata": {
  "kernelspec": {
   "display_name": "Python 3",
   "language": "python",
   "name": "python3"
  },
  "language_info": {
   "codemirror_mode": {
    "name": "ipython",
    "version": 3
   },
   "file_extension": ".py",
   "mimetype": "text/x-python",
   "name": "python",
   "nbconvert_exporter": "python",
   "pygments_lexer": "ipython3",
   "version": "3.8.8"
  }
 },
 "nbformat": 4,
 "nbformat_minor": 4
}
